{
 "cells": [
  {
   "cell_type": "markdown",
   "metadata": {},
   "source": [
    "# genes\n",
    "\n",
    "> Prepare and annotate genes and gene sets."
   ]
  },
  {
   "cell_type": "code",
   "execution_count": null,
   "metadata": {},
   "outputs": [],
   "source": [
    "# | default_exp genes"
   ]
  },
  {
   "cell_type": "code",
   "execution_count": null,
   "metadata": {},
   "outputs": [],
   "source": [
    "# | hide\n",
    "%load_ext autoreload\n",
    "%autoreload 2"
   ]
  },
  {
   "cell_type": "code",
   "execution_count": null,
   "metadata": {},
   "outputs": [],
   "source": [
    "# | export\n",
    "\n",
    "import os\n",
    "from typing import Union\n",
    "\n",
    "import numpy as np\n",
    "import pandas as pd"
   ]
  },
  {
   "cell_type": "code",
   "execution_count": null,
   "metadata": {},
   "outputs": [],
   "source": [
    "# | hide\n",
    "if \"EXAMPLE_DATA_PATH\" not in os.environ.keys():\n",
    "    os.environ[\n",
    "        \"EXAMPLE_DATA_PATH\"\n",
    "    ] = \"/Users/npapadop/Documents/repos/comandos/example_data/\""
   ]
  },
  {
   "cell_type": "markdown",
   "metadata": {},
   "source": [
    "SAMap is built on pairwise gene similarity. For cross-species comparisons it is often very\n",
    "interesting to know the level of conservation of two genes - mostly, whether they are orthologs or\n",
    "paralogs. I will provide functions to annotate genes with orthology information from EggNOG-mapper,\n",
    "but you can also use your own orthology annotation, provided it returns the same thing: a $G_1\n",
    "\\times G_2$ table where $G_1$ and $G_2$ are the genes in the two species you are comparing, and each\n",
    "cell $(g_1, g_2)$ contains the orthology relationship between $g_1$ and $g_2$: 2, if they are\n",
    "orthologs, 1 if they are paralogs/in the same gene family, 0 if they are unrelated.\n",
    "\n",
    "This is an extremely inefficient way of saving this matrix, and it would be relatively easy to code\n",
    "this as a sparse matrix, but I don't think it's worth the effort. The matrices are not too large\n",
    "(especially after the gene filtering that is so common to scRNA-seq analysis), and even home\n",
    "computers commonly pack 16GB of RAM these days. Unless you are working with Frankenstein'd genomes\n",
    "with tens of thousands of \"genes\" you will be fine."
   ]
  },
  {
   "cell_type": "markdown",
   "metadata": {},
   "source": [
    "First we will need to read in the EggNOG-mapper result file.\n",
    "\n",
    "<div class=\"alert alert-block alert-warning\">\n",
    "<details>\n",
    "<summary>\n",
    "<b>WARNING - EggNOG format:</b>\n",
    "</summary>\n",
    "\n",
    "Depending on the version of EggNOG you may get a slightly different file; you will need to filter it\n",
    "down to the two columns we need: the query gene ID and the orthogroup assignments. These are a\n",
    "comma-separated string in the format `orthogroup_ID@taxonomic_level`. The taxonomic level will\n",
    "determine whether genes are orthologs or paralogs, so choose wisely. I am using `\"Eukaryota\"` and\n",
    "`\"Bilateria\"` as defaults, but it may well be that your version of EggNOG is using NCBI taxonomic\n",
    "IDs instead of verbose names. Please check before applying!\n",
    "\n",
    "</details>\n",
    "</div>\n",
    "\n",
    "<div class=\"alert alert-block alert-warning\">\n",
    "<details>\n",
    "<summary>\n",
    "<b>WARNING - Index matching:</b>\n",
    "</summary>\n",
    "\n",
    "For the entries of the EggNOG table to match to the gene names in the SAMap object we need to make\n",
    "sure the index of `query` matches to the index of `sm.sams[query_species].adata.var`. If you created\n",
    "the files in the scheme that I am following, this means that you prepended the species ID to the\n",
    "gene IDs; we would need to do the same here.\n",
    "\n",
    "</details>\n",
    "</div>"
   ]
  },
  {
   "cell_type": "code",
   "execution_count": null,
   "metadata": {},
   "outputs": [],
   "source": [
    "query = pd.read_csv(\n",
    "    os.environ[\"EXAMPLE_DATA_PATH\"] + \"eggnog/hydra.tsv\",\n",
    "    sep=\"\\t\",\n",
    "    engine=\"python\",\n",
    ")\n",
    "query = query[\n",
    "    [\"Unnamed: 0\", \"eggNOG_OGs\"]\n",
    "].copy()  # I am only keeping the columns I need\n",
    "query.columns = [\"gene_id\", \"eggNOG_OGs\"]  # rename so that it is easier to work with\n",
    "query[\"gene_id\"] = \"hy_\" + query[\"gene_id\"].astype(str)"
   ]
  },
  {
   "cell_type": "code",
   "execution_count": null,
   "metadata": {},
   "outputs": [
    {
     "data": {
      "text/html": [
       "<div>\n",
       "<style scoped>\n",
       "    .dataframe tbody tr th:only-of-type {\n",
       "        vertical-align: middle;\n",
       "    }\n",
       "\n",
       "    .dataframe tbody tr th {\n",
       "        vertical-align: top;\n",
       "    }\n",
       "\n",
       "    .dataframe thead th {\n",
       "        text-align: right;\n",
       "    }\n",
       "</style>\n",
       "<table border=\"1\" class=\"dataframe\">\n",
       "  <thead>\n",
       "    <tr style=\"text-align: right;\">\n",
       "      <th></th>\n",
       "      <th>gene_id</th>\n",
       "      <th>eggNOG_OGs</th>\n",
       "    </tr>\n",
       "  </thead>\n",
       "  <tbody>\n",
       "    <tr>\n",
       "      <th>0</th>\n",
       "      <td>hy_t33417aep</td>\n",
       "      <td>38ERC@33154,3NUD8@4751,3QR2W@4890,3RR2D@4891,C...</td>\n",
       "    </tr>\n",
       "    <tr>\n",
       "      <th>1</th>\n",
       "      <td>hy_t33418aep</td>\n",
       "      <td>2CN11@1,2QT83@2759,38D3X@33154,3BDRF@33208,3CX...</td>\n",
       "    </tr>\n",
       "    <tr>\n",
       "      <th>2</th>\n",
       "      <td>hy_t37645aep</td>\n",
       "      <td>38CHP@33154,3B9GY@33208,COG2124@1,KOG0157@2759</td>\n",
       "    </tr>\n",
       "    <tr>\n",
       "      <th>3</th>\n",
       "      <td>hy_t31628aep</td>\n",
       "      <td>KOG1075@1,KOG1075@2759,KOG4475@1,KOG4475@2759</td>\n",
       "    </tr>\n",
       "    <tr>\n",
       "      <th>4</th>\n",
       "      <td>hy_t33265aep</td>\n",
       "      <td>3QB9P@4776,COG3145@1,KOG2731@2759</td>\n",
       "    </tr>\n",
       "    <tr>\n",
       "      <th>...</th>\n",
       "      <td>...</td>\n",
       "      <td>...</td>\n",
       "    </tr>\n",
       "    <tr>\n",
       "      <th>18265</th>\n",
       "      <td>hy_t24932aep</td>\n",
       "      <td>3A1BV@33154,3BQ1H@33208,KOG1121@1,KOG1121@2759</td>\n",
       "    </tr>\n",
       "    <tr>\n",
       "      <th>18266</th>\n",
       "      <td>hy_t24930aep</td>\n",
       "      <td>2E9XV@1,2SG7Z@2759</td>\n",
       "    </tr>\n",
       "    <tr>\n",
       "      <th>18267</th>\n",
       "      <td>hy_t24940aep</td>\n",
       "      <td>KOG0118@1,KOG0118@2759</td>\n",
       "    </tr>\n",
       "    <tr>\n",
       "      <th>18268</th>\n",
       "      <td>hy_t29557aep</td>\n",
       "      <td>2CZA0@1,2S9AH@2759,3ABW2@33154,3BVK1@33208</td>\n",
       "    </tr>\n",
       "    <tr>\n",
       "      <th>18269</th>\n",
       "      <td>hy_t29564aep</td>\n",
       "      <td>COG2340@1,KOG3017@2759</td>\n",
       "    </tr>\n",
       "  </tbody>\n",
       "</table>\n",
       "<p>18270 rows × 2 columns</p>\n",
       "</div>"
      ],
      "text/plain": [
       "            gene_id                                         eggNOG_OGs\n",
       "0      hy_t33417aep  38ERC@33154,3NUD8@4751,3QR2W@4890,3RR2D@4891,C...\n",
       "1      hy_t33418aep  2CN11@1,2QT83@2759,38D3X@33154,3BDRF@33208,3CX...\n",
       "2      hy_t37645aep     38CHP@33154,3B9GY@33208,COG2124@1,KOG0157@2759\n",
       "3      hy_t31628aep      KOG1075@1,KOG1075@2759,KOG4475@1,KOG4475@2759\n",
       "4      hy_t33265aep                  3QB9P@4776,COG3145@1,KOG2731@2759\n",
       "...             ...                                                ...\n",
       "18265  hy_t24932aep     3A1BV@33154,3BQ1H@33208,KOG1121@1,KOG1121@2759\n",
       "18266  hy_t24930aep                                 2E9XV@1,2SG7Z@2759\n",
       "18267  hy_t24940aep                             KOG0118@1,KOG0118@2759\n",
       "18268  hy_t29557aep         2CZA0@1,2S9AH@2759,3ABW2@33154,3BVK1@33208\n",
       "18269  hy_t29564aep                             COG2340@1,KOG3017@2759\n",
       "\n",
       "[18270 rows x 2 columns]"
      ]
     },
     "execution_count": null,
     "metadata": {},
     "output_type": "execute_result"
    }
   ],
   "source": [
    "query"
   ]
  },
  {
   "cell_type": "markdown",
   "metadata": {},
   "source": [
    "Now we will filter the `EggNOG_OGs` column and only keep the two levels that we're interested in.\n",
    "Since we are comparing _Hydra_ to a planarian we should be using the Metazoa level for orthologs. We\n",
    "can see from the table visualization that this table uses NCBI tax IDs, so we should look up the tax\n",
    "ID for Metazoa (33208). Similarly, if we would like to use the Eukaryota level for paralogs, we need\n",
    "its tax ID (2759).\n",
    "\n",
    "We also need a function that will filter the orthology table to only keep the OGs that belong to the\n",
    "specified levels:"
   ]
  },
  {
   "cell_type": "code",
   "execution_count": null,
   "metadata": {},
   "outputs": [],
   "source": [
    "# | export\n",
    "\n",
    "\n",
    "def filter_OGs(\n",
    "    x: Union[\n",
    "        list, str\n",
    "    ],  # list of the EggNOG OGs or comma-separated string of EggNOG OGs.\n",
    "    paralog: str = \"Eukaryota\",  # the level of the paralog OG\n",
    "    ortholog: str = \"Bilateria\",  # the level of the ortholog OG\n",
    ") -> list:  # the paralog OG and ortholog OG\n",
    "    \"Find the EggNOG OGs at the the paralog and ortholog level.\"\n",
    "    paralog_OG = \"\"\n",
    "    ortholog_OG = \"\"\n",
    "    if isinstance(x, str):\n",
    "        x = x.split(\",\")\n",
    "    for s in x:\n",
    "        if paralog in s:\n",
    "            paralog_OG = s\n",
    "        if ortholog in s:\n",
    "            ortholog_OG = s\n",
    "    return [paralog_OG, ortholog_OG]"
   ]
  },
  {
   "cell_type": "markdown",
   "metadata": {},
   "source": [
    "This function will filter one EggNOG string (or list) to the specified levels."
   ]
  },
  {
   "cell_type": "code",
   "execution_count": null,
   "metadata": {},
   "outputs": [
    {
     "data": {
      "text/plain": [
       "'38ERC@33154,3NUD8@4751,3QR2W@4890,3RR2D@4891,COG5050@1,KOG2877@2759'"
      ]
     },
     "execution_count": null,
     "metadata": {},
     "output_type": "execute_result"
    }
   ],
   "source": [
    "query[\"eggNOG_OGs\"].loc[0]"
   ]
  },
  {
   "cell_type": "code",
   "execution_count": null,
   "metadata": {},
   "outputs": [],
   "source": [
    "input_str = query[\"eggNOG_OGs\"].loc[0]\n",
    "paralog_str, ortholog_str = filter_OGs(input_str, paralog=\"2759\", ortholog=\"33208\")\n",
    "assert paralog_str == \"KOG2877@2759\"\n",
    "assert ortholog_str == \"\""
   ]
  },
  {
   "cell_type": "code",
   "execution_count": null,
   "metadata": {},
   "outputs": [],
   "source": [
    "input_list = query[\"eggNOG_OGs\"].loc[0].split(\",\")\n",
    "paralog_list, ortholog_list = filter_OGs(input_list, paralog=\"2759\", ortholog=\"33208\")\n",
    "assert paralog_list == \"KOG2877@2759\"\n",
    "assert ortholog_list == \"\""
   ]
  },
  {
   "cell_type": "code",
   "execution_count": null,
   "metadata": {},
   "outputs": [],
   "source": [
    "# | export\n",
    "\n",
    "\n",
    "def assign_homology(\n",
    "    species_OGs,  # the dataframe with the gene_id and the EggNOG OGs\n",
    "    paralog: str = \"Eukaryota\",  # the level of the paralog OG\n",
    "    ortholog: str = \"Bilateria\",  # the level of the ortholog OG)\n",
    ") -> pd.DataFrame:  # the dataframe with the gene_id, paralog OG and ortholog OG\n",
    "    \"Get the taxonomy of the genes.\"\n",
    "    homologs = (\n",
    "        species_OGs[\"eggNOG_OGs\"]\n",
    "        .apply(filter_OGs, paralog=paralog, ortholog=ortholog)\n",
    "        .to_list()\n",
    "    )\n",
    "    taxonomy = pd.DataFrame(homologs, columns=[\"paralog\", \"ortholog\"])\n",
    "    species_OGs = species_OGs.join(taxonomy)\n",
    "\n",
    "    orthologs = pd.DataFrame(\n",
    "        species_OGs.groupby(\"gene_id\")[\"ortholog\"].apply(np.unique).str[0]\n",
    "    )\n",
    "    paralogs = pd.DataFrame(\n",
    "        species_OGs.groupby(\"gene_id\")[\"paralog\"].apply(np.unique).str[0]\n",
    "    )\n",
    "\n",
    "    result = orthologs.join(paralogs)\n",
    "    result.replace(to_replace=\"\", value=None, inplace=True)\n",
    "    return result"
   ]
  },
  {
   "cell_type": "code",
   "execution_count": null,
   "metadata": {},
   "outputs": [],
   "source": [
    "hydra_genes = assign_homology(query, paralog=\"2759\", ortholog=\"33208\")"
   ]
  },
  {
   "cell_type": "code",
   "execution_count": null,
   "metadata": {},
   "outputs": [
    {
     "data": {
      "text/html": [
       "<div>\n",
       "<style scoped>\n",
       "    .dataframe tbody tr th:only-of-type {\n",
       "        vertical-align: middle;\n",
       "    }\n",
       "\n",
       "    .dataframe tbody tr th {\n",
       "        vertical-align: top;\n",
       "    }\n",
       "\n",
       "    .dataframe thead th {\n",
       "        text-align: right;\n",
       "    }\n",
       "</style>\n",
       "<table border=\"1\" class=\"dataframe\">\n",
       "  <thead>\n",
       "    <tr style=\"text-align: right;\">\n",
       "      <th></th>\n",
       "      <th>ortholog</th>\n",
       "      <th>paralog</th>\n",
       "    </tr>\n",
       "    <tr>\n",
       "      <th>gene_id</th>\n",
       "      <th></th>\n",
       "      <th></th>\n",
       "    </tr>\n",
       "  </thead>\n",
       "  <tbody>\n",
       "    <tr>\n",
       "      <th>hy_t10003aep</th>\n",
       "      <td>3BCY5@33208</td>\n",
       "      <td>KOG3599@2759</td>\n",
       "    </tr>\n",
       "    <tr>\n",
       "      <th>hy_t10008aep</th>\n",
       "      <td>None</td>\n",
       "      <td>KOG1075@2759</td>\n",
       "    </tr>\n",
       "    <tr>\n",
       "      <th>hy_t10009aep</th>\n",
       "      <td>3BA48@33208</td>\n",
       "      <td>KOG1545@2759</td>\n",
       "    </tr>\n",
       "    <tr>\n",
       "      <th>hy_t10011aep</th>\n",
       "      <td>3BFGW@33208</td>\n",
       "      <td>KOG1136@2759</td>\n",
       "    </tr>\n",
       "    <tr>\n",
       "      <th>hy_t10012aep</th>\n",
       "      <td>3BKRE@33208</td>\n",
       "      <td>KOG2527@2759</td>\n",
       "    </tr>\n",
       "    <tr>\n",
       "      <th>...</th>\n",
       "      <td>...</td>\n",
       "      <td>...</td>\n",
       "    </tr>\n",
       "    <tr>\n",
       "      <th>hy_t998aep</th>\n",
       "      <td>3C06S@33208</td>\n",
       "      <td>2S418@2759</td>\n",
       "    </tr>\n",
       "    <tr>\n",
       "      <th>hy_t9990aep</th>\n",
       "      <td>None</td>\n",
       "      <td>KOG0490@2759</td>\n",
       "    </tr>\n",
       "    <tr>\n",
       "      <th>hy_t9992aep</th>\n",
       "      <td>3B9JS@33208</td>\n",
       "      <td>KOG0573@2759</td>\n",
       "    </tr>\n",
       "    <tr>\n",
       "      <th>hy_t999aep</th>\n",
       "      <td>None</td>\n",
       "      <td>2RZ1Z@2759</td>\n",
       "    </tr>\n",
       "    <tr>\n",
       "      <th>hy_t99aep</th>\n",
       "      <td>3BH2P@33208</td>\n",
       "      <td>KOG2861@2759</td>\n",
       "    </tr>\n",
       "  </tbody>\n",
       "</table>\n",
       "<p>18270 rows × 2 columns</p>\n",
       "</div>"
      ],
      "text/plain": [
       "                 ortholog       paralog\n",
       "gene_id                                \n",
       "hy_t10003aep  3BCY5@33208  KOG3599@2759\n",
       "hy_t10008aep         None  KOG1075@2759\n",
       "hy_t10009aep  3BA48@33208  KOG1545@2759\n",
       "hy_t10011aep  3BFGW@33208  KOG1136@2759\n",
       "hy_t10012aep  3BKRE@33208  KOG2527@2759\n",
       "...                   ...           ...\n",
       "hy_t998aep    3C06S@33208    2S418@2759\n",
       "hy_t9990aep          None  KOG0490@2759\n",
       "hy_t9992aep   3B9JS@33208  KOG0573@2759\n",
       "hy_t999aep           None    2RZ1Z@2759\n",
       "hy_t99aep     3BH2P@33208  KOG2861@2759\n",
       "\n",
       "[18270 rows x 2 columns]"
      ]
     },
     "execution_count": null,
     "metadata": {},
     "output_type": "execute_result"
    }
   ],
   "source": [
    "hydra_genes"
   ]
  },
  {
   "cell_type": "code",
   "execution_count": null,
   "metadata": {},
   "outputs": [],
   "source": [
    "assert hydra_genes.loc[\"hy_t10003aep\"][\"paralog\"] == \"KOG3599@2759\"\n",
    "assert hydra_genes.loc[\"hy_t10003aep\"][\"ortholog\"] == \"3BCY5@33208\""
   ]
  },
  {
   "cell_type": "markdown",
   "metadata": {},
   "source": [
    "Repeat for the target species (planarian):"
   ]
  },
  {
   "cell_type": "code",
   "execution_count": null,
   "metadata": {},
   "outputs": [],
   "source": [
    "target = pd.read_csv(\n",
    "    os.environ[\"EXAMPLE_DATA_PATH\"] + \"eggnog/planarian.tsv\",\n",
    "    sep=\"\\t\",\n",
    "    engine=\"python\",\n",
    ")\n",
    "target = target[\n",
    "    [\"Unnamed: 0\", \"eggNOG_OGs\"]\n",
    "].copy()  # I am only keeping the columns I need\n",
    "target.columns = [\"gene_id\", \"eggNOG_OGs\"]  # rename so that it is easier to work with\n",
    "target[\"gene_id\"] = \"pl_\" + target[\"gene_id\"].astype(str)\n",
    "\n",
    "planarian_genes = assign_homology(target, paralog=\"2759\", ortholog=\"33208\")"
   ]
  },
  {
   "cell_type": "markdown",
   "metadata": {},
   "source": [
    "Given the orthology assignments (orthogroup membership), it is now very easy to calculate which\n",
    "cross-species genes are orthologs or paralogs; we just need to compare the columns of the orthology\n",
    "tables and keep score."
   ]
  },
  {
   "cell_type": "code",
   "execution_count": null,
   "metadata": {},
   "outputs": [],
   "source": [
    "# | exporti\n",
    "\n",
    "\n",
    "def compare_orthology(query, target):\n",
    "    result = []\n",
    "    for x in query:\n",
    "        result.append(target == x)\n",
    "\n",
    "    result = pd.DataFrame(result)\n",
    "    result.index = query.index\n",
    "    return result"
   ]
  },
  {
   "cell_type": "code",
   "execution_count": null,
   "metadata": {},
   "outputs": [],
   "source": [
    "# | export\n",
    "\n",
    "\n",
    "def calculate_orthology_score(\n",
    "    query: pd.DataFrame,  # the dataframe with the gene_id, paralog OG and ortholog OG for the query species\n",
    "    target: pd.DataFrame,\n",
    ") -> pd.DataFrame:\n",
    "    orthologs = compare_orthology(query[\"ortholog\"], target[\"ortholog\"])\n",
    "    paralogs = compare_orthology(query[\"paralog\"], target[\"paralog\"])\n",
    "    orthology_score = orthologs.astype(int) + paralogs.astype(int)\n",
    "    return orthology_score"
   ]
  },
  {
   "cell_type": "code",
   "execution_count": null,
   "metadata": {},
   "outputs": [],
   "source": [
    "orthology_score = calculate_orthology_score(hydra_genes, planarian_genes)"
   ]
  },
  {
   "cell_type": "code",
   "execution_count": null,
   "metadata": {},
   "outputs": [
    {
     "name": "stdout",
     "output_type": "stream",
     "text": [
      "38GXK@33154,3BHNW@33208,3CZKV@33213,47ZE5@7711,48WIG@7742,4CF02@8459,KOG2397@1,KOG2397@2759\n",
      "38GXK@33154,3BHNW@33208,KOG2397@1,KOG2397@2759\n"
     ]
    }
   ],
   "source": [
    "gene1 = \"pl_dd_Smed_v4_10002_0_1\"\n",
    "gene2 = \"hy_t25984aep\"\n",
    "\n",
    "annot1 = target.set_index(\"gene_id\").loc[gene1]\n",
    "annot2 = query.set_index(\"gene_id\").loc[gene2]\n",
    "\n",
    "print(annot1[\"eggNOG_OGs\"])\n",
    "print(annot2[\"eggNOG_OGs\"])"
   ]
  },
  {
   "cell_type": "markdown",
   "metadata": {},
   "source": [
    "These genes are orthologs, we should therefore expect them to have an orthology score of 2:"
   ]
  },
  {
   "cell_type": "code",
   "execution_count": null,
   "metadata": {},
   "outputs": [],
   "source": [
    "assert orthology_score[gene1].loc[gene2] == 2"
   ]
  },
  {
   "cell_type": "markdown",
   "metadata": {},
   "source": [
    "We can save the orthology table to disk for later use:\n",
    "\n",
    "```python\n",
    "# not run\n",
    "orthology_score.to_csv(\"path/to/hypl_orthology.tsv\", sep=\"\\t\")\n",
    "```"
   ]
  },
  {
   "cell_type": "code",
   "execution_count": null,
   "metadata": {},
   "outputs": [],
   "source": [
    "# | hide\n",
    "import nbdev\n",
    "\n",
    "nbdev.nbdev_export()"
   ]
  }
 ],
 "metadata": {
  "kernelspec": {
   "display_name": "python3",
   "language": "python",
   "name": "python3"
  }
 },
 "nbformat": 4,
 "nbformat_minor": 2
}
