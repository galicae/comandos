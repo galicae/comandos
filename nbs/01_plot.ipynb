{
 "cells": [
  {
   "cell_type": "markdown",
   "id": "91efded9-f3d5-4192-8a3e-031222ea446b",
   "metadata": {},
   "source": [
    "# plot\n",
    "\n",
    "> Collection of plotting functions"
   ]
  },
  {
   "cell_type": "code",
   "execution_count": null,
   "id": "07d998db-9525-4a89-b684-2d9288ea159d",
   "metadata": {},
   "outputs": [],
   "source": [
    "#| default_exp plot"
   ]
  },
  {
   "cell_type": "code",
   "execution_count": null,
   "id": "344c503d-91e1-422b-8609-12f9efe524ee",
   "metadata": {},
   "outputs": [],
   "source": [
    "#| hide\n",
    "%load_ext autoreload\n",
    "%autoreload 2"
   ]
  },
  {
   "cell_type": "code",
   "execution_count": null,
   "id": "c3d1d950-f503-4a9d-a486-2d14de1fa872",
   "metadata": {},
   "outputs": [],
   "source": [
    "#| hide\n",
    "from nbdev.showdoc import *\n",
    "\n",
    "from fastcore.test import *\n",
    "from fastcore.docments import docments"
   ]
  },
  {
   "cell_type": "code",
   "execution_count": null,
   "id": "d1dd0afd-809c-4fa0-8d5b-518142d8e8a3",
   "metadata": {},
   "outputs": [],
   "source": []
  }
 ],
 "metadata": {
  "kernelspec": {
   "display_name": "Python 3 (ipykernel)",
   "language": "python",
   "name": "python3"
  }
 },
 "nbformat": 4,
 "nbformat_minor": 5
}
