{
 "cells": [
  {
   "cell_type": "code",
   "execution_count": null,
   "metadata": {},
   "outputs": [],
   "source": [
    "# | hide\n",
    "from comandos.core import *"
   ]
  },
  {
   "attachments": {},
   "cell_type": "markdown",
   "metadata": {},
   "source": [
    "# ComAnDOS\n",
    "\n",
    "> A package for **Com**parative **An**alysis **D**ownstream **O**f **S**AMap."
   ]
  },
  {
   "cell_type": "markdown",
   "metadata": {},
   "source": [
    "## Publications\n",
    "\n",
    "A draft is under preparation at [comandos-paper](https://github.com/galicae/comandos-paper)."
   ]
  },
  {
   "cell_type": "markdown",
   "metadata": {},
   "source": [
    "[![python](https://img.shields.io/badge/Python-3.9-3776AB.svg?style=flat&logo=python&logoColor=white)](https://www.python.org)\n",
    "![example workflow](https://github.com/galicae/comandos/actions/workflows/test.yaml/badge.svg)\n",
    "[![Code style: black](https://img.shields.io/badge/code%20style-black-000000.svg)](https://github.com/psf/black)\n",
    "[![DOI](https://zenodo.org/badge/DOI/10.5281/zenodo.8143110.svg)](https://doi.org/10.5281/zenodo.8143110)\n",
    "\n",
    "<p align=\"center\"><img src=\"../.github/tardi_head.png\" height=\"256\" /></p>\n",
    "\n",
    "As a long-time user of SAMap and a connoisseur of cross-species comparisons, I was always frustrated\n",
    "by the lack of useful visualization downstream of SAMap results. We don't need fancy software to\n",
    "figure out that ciliated cells are similar to ciliated cells, and muscle to muscle, but what about\n",
    "those pesky \"unknown_sensory_2\" and \"ciliated?_2\" clusters? ComAnDOS is a collection of plotting\n",
    "functions and assorted utilities that I hacked together to help myself and collaborators make sense\n",
    "of SAMap results. It is conceived as a SAMap add-on, but it doesn't require it per se. It mostly\n",
    "works with two \"primitives\": AnnData, and Pandas DataFrames, so it should be relatively easy to\n",
    "adapt to your use case.\n",
    "\n",
    "It currently includes:\n",
    "\n",
    "- fancy heatmaps (replace Sankey plots, circle plots)\n",
    "- paired dotplots (directly compare cross-species expression!)\n",
    "- assorted utility functions"
   ]
  },
  {
   "attachments": {},
   "cell_type": "markdown",
   "metadata": {},
   "source": [
    "## Background and motivation\n",
    "\n",
    "<details>\n",
    "<summary> click to expand </summary>\n",
    "\n",
    "Single-cell RNA-seq (scRNA-seq) is a powerful tool to study the transcriptome of individual cells.\n",
    "As the technology matured, it became possible to use it on non-model organisms, facilitating cell\n",
    "type comparison across species. Early methods for this task subsetted gene expression matrices to\n",
    "one-to-one orthologous genes, assuming that sequence conservation also implies conservation of\n",
    "location, magnitude, and timing of gene expression. Not only is this assumption not true, but it\n",
    "also requires us to discard a large amount of data.\n",
    "\n",
    "[SAMap](https://elifesciences.org/articles/66747) was the first method to try and include\n",
    "many-to-one orthology relations. In alternating steps, it optimises a cell graph and a gene graph,\n",
    "using the former to inform the latter and vice versa. The result is a converged low-dimensional\n",
    "embedding that contains the cells of both species, allowing for direct comparison.\n",
    "\n",
    "SAMap comes with a small number of visualization tools, but, as I had to find out myself, they are\n",
    "not sufficient for in-depth analysis. In particular:\n",
    "\n",
    "- Sankey diagrams, SAMap's default visualization for cluster-cluster relationships, obscure the\n",
    "  fact that cell types are hierarchically organized. They also make it harder to quantify just how\n",
    "  similar two cell types are according to SAMap.\n",
    "- Tarashansky _et al._ used network diagrams to demonstrate highly connected cell type families. I\n",
    "  found that these diagrams are not very informative, as they are hard to read and do not scale\n",
    "  well to large datasets.\n",
    "- In the publication, heatmaps are used once, but not to their full extent.\n",
    "- Overlapping dimplots with corresponding violin plots are used to demonstrate co-expression across\n",
    "  species. This is a good idea, but results in overloaded plots.\n",
    "- The authors use dotplots to show gene expression across species, color-coding the species. This\n",
    "  loses one of the dotplots' dimensions, where color usually encodes expression level, and forces\n",
    "  the use of an additional axis to show expression magnitude. Furthermore, the relationships between\n",
    "  the plotted genes in the different species are hard to visualize and need to be described in text.\n",
    "\n",
    "These visualisations have two additional shortcomings: First, they are not easily reproducible,\n",
    "as they are not part of SAMap but rather custom solutions for very specific use cases. Second, they\n",
    "are extremely specific in what they show, and thus not useful for exploratory data analysis.\n",
    "\n",
    "</details>"
   ]
  },
  {
   "cell_type": "markdown",
   "metadata": {},
   "source": [
    "## Documentation\n",
    "\n",
    "This package was developed using [nbdev](https://nbdev.fast.ai/), which means the source code was\n",
    "generated from Jupyter notebooks using the [literate programming\n",
    "paradigm](https://en.wikipedia.org/wiki/Literate_programming). You can see the exported function\n",
    "signatures and assorted explanations [online](https://galicae.github.io/comandos/). I am currently\n",
    "working on tutorials for the most important use cases.\n",
    "\n",
    "For questions or requests please open an issue on\n",
    "[GitHub](https://github.com/galicae/comandos/issues/new). I will be communicating updates, if any,\n",
    "on [Twitter](https://twitter.com/galicae)."
   ]
  },
  {
   "attachments": {},
   "cell_type": "markdown",
   "metadata": {},
   "source": [
    "## Install\n",
    "\n",
    "### GitHub\n",
    "\n",
    "It is good practice to set up a virtual environment for your Python projects. I recommend `conda`,\n",
    "or `mamba` if you want faster package installation.\n",
    "\n",
    "```bash\n",
    "conda create -n comandos python=3.9\n",
    "conda activate comandos\n",
    "```\n",
    "\n",
    "First install dependencies:\n",
    "\n",
    "```bash\n",
    "pip install scanpy jupyterlab\n",
    "```\n",
    "\n",
    "After installing dependencies, clone the latest version from GitHub and install it:\n",
    "\n",
    "```bash\n",
    "cd /directory/of/choice\n",
    "git clone https://github.com/galicae/comandos.git\n",
    "cd comandos\n",
    "pip install -e .\n",
    "```\n",
    "\n",
    "<!-- ### PyPi\n",
    "\n",
    "```bash\n",
    "pip install comandos\n",
    "```\n",
    "\n",
    "### Conda\n",
    "\n",
    "```bash\n",
    "conda install -c galicae comandos\n",
    "``` -->"
   ]
  },
  {
   "attachments": {},
   "cell_type": "markdown",
   "metadata": {},
   "source": [
    "## Getting started\n",
    "\n",
    "`<list example notebooks here>`"
   ]
  }
 ],
 "metadata": {
  "kernelspec": {
   "display_name": "python3",
   "language": "python",
   "name": "python3"
  }
 },
 "nbformat": 4,
 "nbformat_minor": 4
}
