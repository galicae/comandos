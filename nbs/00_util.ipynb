{
 "cells": [
  {
   "cell_type": "markdown",
   "metadata": {},
   "source": [
    "# util\n",
    "\n",
    "> Collection of various more advanced single-cell plots"
   ]
  },
  {
   "cell_type": "code",
   "execution_count": null,
   "metadata": {},
   "outputs": [],
   "source": [
    "#| default_exp core"
   ]
  },
  {
   "cell_type": "code",
   "execution_count": null,
   "metadata": {},
   "outputs": [],
   "source": [
    "#| hide\n",
    "from nbdev.showdoc import *\n",
    "\n",
    "from fastcore.test import *\n",
    "from fastcore.docments import docments\n",
    "\n",
    "import numpy as np\n",
    "from numpy.random import default_rng\n",
    "\n",
    "from scipy.sparse.csgraph import connected_components\n",
    "\n",
    "import matplotlib as mpl\n",
    "import matplotlib.pyplot as plt\n",
    "from matplotlib.cm import ScalarMappable\n",
    "from matplotlib.patches import ConnectionPatch"
   ]
  },
  {
   "cell_type": "markdown",
   "metadata": {},
   "source": [
    "We are primarily going to be working with non-model species, so the gene names will always be of the form\n",
    "\n",
    "`XLOC_123456 | emapper-name-or-description-if-we're-lucky`\n",
    "\n",
    "or something similar. This means that we could have extreme variation in the actual length of a gene \"name\"; this will make it very hard to put gene names on axes as it will distort figure sizes. I wrote a function to either trim or pad strings; even though axis labels are not in monospace fonts, it is much easier to visually reconcile strings with lengths in the same order of magnitude."
   ]
  },
  {
   "cell_type": "code",
   "execution_count": null,
   "metadata": {},
   "outputs": [],
   "source": [
    "#| export\n",
    "def procrustes(x:str, # input string\n",
    "               appropriate_length:int=50, # desired length\n",
    "               pad_with:str=\" \", # character to pad with\n",
    "               side:str=\"right\" # which side to pad on (\"left\", \"right\")\n",
    "              )->str: # string with desired length\n",
    "    \"A function to regulate string length.\"\n",
    "    if len(x) > appropriate_length:\n",
    "        return x[:appropriate_length]\n",
    "    if len(x) < appropriate_length:\n",
    "        to_pad = appropriate_length - len(x)\n",
    "        pad = \"\".join([pad_with] * to_pad)\n",
    "        if side == \"right\":\n",
    "            x = x + pad\n",
    "        elif side == \"left\":\n",
    "            x = pad + x\n",
    "        else:\n",
    "            print(\"Invalid side argument; returning string as-is.\")\n",
    "    return x"
   ]
  },
  {
   "cell_type": "code",
   "execution_count": null,
   "metadata": {},
   "outputs": [],
   "source": [
    "too_short = 'Niko'\n",
    "just_right = 'Theseus'\n",
    "too_tall = 'The Mountain'"
   ]
  },
  {
   "cell_type": "code",
   "execution_count": null,
   "metadata": {},
   "outputs": [],
   "source": [
    "assert procrustes(just_right, appropriate_length=7) == 'Theseus'\n",
    "assert procrustes(too_short, appropriate_length=7) == 'Niko   '\n",
    "assert procrustes(too_tall, appropriate_length=7) == 'The Mou'"
   ]
  },
  {
   "cell_type": "code",
   "execution_count": null,
   "metadata": {},
   "outputs": [],
   "source": [
    "#| hide\n",
    "import nbdev; nbdev.nbdev_export()"
   ]
  }
 ],
 "metadata": {
  "kernelspec": {
   "display_name": "Python 3 (ipykernel)",
   "language": "python",
   "name": "python3"
  }
 },
 "nbformat": 4,
 "nbformat_minor": 4
}
