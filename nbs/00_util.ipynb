{
 "cells": [
  {
   "cell_type": "markdown",
   "metadata": {},
   "source": [
    "# util\n",
    "\n",
    "> Collection of helper functions to facilicate plotting"
   ]
  },
  {
   "cell_type": "code",
   "execution_count": null,
   "metadata": {},
   "outputs": [],
   "source": [
    "#| default_exp util"
   ]
  },
  {
   "cell_type": "code",
   "execution_count": null,
   "metadata": {},
   "outputs": [],
   "source": [
    "#| hide\n",
    "%load_ext autoreload\n",
    "%autoreload 2"
   ]
  },
  {
   "cell_type": "code",
   "execution_count": null,
   "metadata": {},
   "outputs": [],
   "source": [
    "#| hide\n",
    "from nbdev.showdoc import *\n",
    "\n",
    "from fastcore.test import *\n",
    "from fastcore.docments import docments"
   ]
  },
  {
   "cell_type": "code",
   "execution_count": null,
   "metadata": {},
   "outputs": [],
   "source": [
    "#| export\n",
    "def procrustes(x:str, # input string\n",
    "               appropriate_length:int=50, # desired length\n",
    "               pad_with:str=\" \", # character to pad with\n",
    "               side:str=\"right\" # which side to pad on (\"left\", \"right\")\n",
    "              )->str: # string with desired length\n",
    "    \"A function to regulate string length.\"\n",
    "    if len(x) > appropriate_length:\n",
    "        return x[:appropriate_length]\n",
    "    if len(x) < appropriate_length:\n",
    "        to_pad = appropriate_length - len(x)\n",
    "        pad = \"\".join([pad_with] * to_pad)\n",
    "        if side == \"right\":\n",
    "            x = x + pad\n",
    "        elif side == \"left\":\n",
    "            x = pad + x\n",
    "        else:\n",
    "            print(\"Invalid side argument; returning string as-is.\")\n",
    "    return x"
   ]
  },
  {
   "cell_type": "markdown",
   "metadata": {},
   "source": [
    "We are primarily going to be working with non-model species, so the gene names will always be of the form\n",
    "\n",
    "`XLOC_123456 | emapper-name-or-description-if-we're-lucky`\n",
    "\n",
    "or something similar. This means that we could have extreme variation in the actual length of a gene \"name\"; this will make it very hard to put gene names on axes as it will distort figure sizes. I wrote a function to either trim or pad strings; even though axis labels are not in monospace fonts, it is much easier to visually reconcile strings with lengths in the same order of magnitude."
   ]
  },
  {
   "cell_type": "code",
   "execution_count": null,
   "metadata": {},
   "outputs": [],
   "source": [
    "too_short = 'Niko'\n",
    "just_right = 'Theseus'\n",
    "too_tall = 'The Mountain'"
   ]
  },
  {
   "cell_type": "code",
   "execution_count": null,
   "metadata": {},
   "outputs": [],
   "source": [
    "assert procrustes(just_right, appropriate_length=7) == 'Theseus'\n",
    "assert procrustes(too_short, appropriate_length=7) == 'Niko   '\n",
    "assert procrustes(too_tall, appropriate_length=7) == 'The Mou'"
   ]
  },
  {
   "cell_type": "code",
   "execution_count": null,
   "metadata": {},
   "outputs": [],
   "source": [
    "#| hide\n",
    "import pandas as pd\n",
    "import anndata as ad"
   ]
  },
  {
   "cell_type": "markdown",
   "metadata": {},
   "source": [
    "<a id='grouped_obs_mean'></a>"
   ]
  },
  {
   "cell_type": "code",
   "execution_count": null,
   "metadata": {},
   "outputs": [],
   "source": [
    "#| export\n",
    "def grouped_obs_mean(adata:ad.AnnData, # AnnData object to analyse\n",
    "                        group_key:str, # `.obs` category to group by\n",
    "                        layer:str=None # layer to use. If none, use `.X`\n",
    "                    )->pd.DataFrame: # a groups$\\times$genes dataframe with the average expression\n",
    "    \"Helper function to calculate average expression per group in an `AnnData` object.\"\n",
    "    if layer is not None:\n",
    "        getX = lambda x: x.layers[layer]\n",
    "    else:\n",
    "        getX = lambda x: x.X\n",
    "\n",
    "    grouped = adata.obs.groupby(group_key)\n",
    "    out = pd.DataFrame(\n",
    "        np.zeros((adata.shape[1], len(grouped)), dtype=np.float64),\n",
    "        columns=list(grouped.groups.keys()),\n",
    "        index=adata.var_names,\n",
    "    )\n",
    "\n",
    "    for group, idx in grouped.indices.items():\n",
    "        X = getX(adata[idx])\n",
    "        out[group] = np.ravel(X.mean(axis=0, dtype=np.float64))\n",
    "    return out"
   ]
  },
  {
   "cell_type": "markdown",
   "metadata": {},
   "source": [
    "Many tasks in single-cell analysis require us to know the average expression of a gene in a certain group of cells. While `scanpy` _does_ perform that task behind the scenes for, e.g. dotplots, this is not functionality that is exposed to the users. This is an implementation based on [ivirshup's answer](https://github.com/theislab/scanpy/issues/181#issuecomment-534867254) to a scanpy issue."
   ]
  },
  {
   "cell_type": "code",
   "execution_count": null,
   "metadata": {},
   "outputs": [],
   "source": [
    "import scanpy as sc\n",
    "import numpy as np\n",
    "\n",
    "adata = sc.read_h5ad('../example_data/hydra.h5ad')\n",
    "\n",
    "cluster_means = grouped_obs_mean(adata, group_key='Cluster')"
   ]
  },
  {
   "cell_type": "markdown",
   "metadata": {},
   "source": [
    "If $G$ is the number of genes and $C$ the number of unique clusters in the `group_key`, the returned array should have the shape $G \\times C$:"
   ]
  },
  {
   "cell_type": "code",
   "execution_count": null,
   "metadata": {},
   "outputs": [],
   "source": [
    "no_genes = adata.shape[1]\n",
    "no_clusters = len(np.unique(adata.obs['Cluster']))\n",
    "assert cluster_means.shape == (no_genes, no_clusters)"
   ]
  },
  {
   "cell_type": "markdown",
   "metadata": {},
   "source": [
    "Additionally, each column of the array should contain the average detected expression for cells in that cluster:"
   ]
  },
  {
   "cell_type": "code",
   "execution_count": null,
   "metadata": {},
   "outputs": [],
   "source": [
    "belong_to_ecEp_SC2 = adata.obs['Cluster'] == 'ecEp_SC2'\n",
    "ecEp_SC2_average = np.mean(adata[belong_to_ecEp_SC2].X, axis=0)\n",
    "ecEp_SC2_average = np.array(ecEp_SC2_average)[0]\n",
    "\n",
    "assert all(np.isclose(cluster_means['ecEp_SC2'], ecEp_SC2_average))"
   ]
  },
  {
   "cell_type": "code",
   "execution_count": null,
   "metadata": {},
   "outputs": [],
   "source": [
    "#| export\n",
    "def grouped_obs_present(adata:ad.AnnData, # AnnData object to analyse\n",
    "                        group_key:str, # `.obs` category to group by\n",
    "                        layer:str=None # layer to use. If none, use `.X`\n",
    "                       )->pd.DataFrame: # a groups$\\times$genes dataframe with the number of expressing cells\n",
    "    \"Helper function to calculate how many cells express each gene per group in an `AnnData` object.\"\n",
    "    if layer is not None:\n",
    "        getX = lambda x: x.layers[layer]\n",
    "    else:\n",
    "        getX = lambda x: x.X\n",
    "\n",
    "    grouped = adata.obs.groupby(group_key)\n",
    "    out = pd.DataFrame(\n",
    "        np.zeros((adata.shape[1], len(grouped)), dtype=np.float64),\n",
    "        columns=list(grouped.groups.keys()),\n",
    "        index=adata.var_names,\n",
    "    )\n",
    "\n",
    "    for group, idx in grouped.indices.items():\n",
    "        X = getX(adata[idx])\n",
    "        out[group] = np.ravel((X > 0).sum(axis=0, dtype=np.float64))\n",
    "    return out"
   ]
  },
  {
   "cell_type": "markdown",
   "metadata": {},
   "source": [
    "Another critical value to know when making dotplots is the fraction of cells expressing a gene in a certain cluster. Again, `scanpy` performs that task without exposing it to the users. Similar to [`grouped_obs_mean`](#grouped_obs_mean) this is an implementation based on [ivirshup's answer](https://github.com/theislab/scanpy/issues/181#issuecomment-534867254) to a scanpy issue. Here we calculate the sum of cells expressing a gene, a table we can use to calculate the fraction later."
   ]
  },
  {
   "cell_type": "code",
   "execution_count": null,
   "metadata": {},
   "outputs": [],
   "source": [
    "num_expressing = grouped_obs_present(adata, group_key='Cluster')"
   ]
  },
  {
   "cell_type": "markdown",
   "metadata": {},
   "source": [
    "If $G$ is the number of genes and $C$ the number of unique clusters in the `group_key`, the returned array should have the shape $G \\times C$:"
   ]
  },
  {
   "cell_type": "code",
   "execution_count": null,
   "metadata": {},
   "outputs": [],
   "source": [
    "assert num_expressing.shape == (no_genes, no_clusters)"
   ]
  },
  {
   "cell_type": "markdown",
   "metadata": {},
   "source": [
    "Additionally, each column of the array should contain the percentage of cells expressing each gene in that cluster:"
   ]
  },
  {
   "cell_type": "code",
   "execution_count": null,
   "metadata": {},
   "outputs": [],
   "source": [
    "belong_to_ecEp_SC2 = adata.obs['Cluster'] == 'ecEp_SC2'\n",
    "ecEp_SC2_expr = np.sum(adata[belong_to_ecEp_SC2].X>0, axis=0)\n",
    "ecEp_SC2_expr = np.array(ecEp_SC2_expr)[0]\n",
    "\n",
    "assert all(num_expressing['ecEp_SC2'] == ecEp_SC2_expr)"
   ]
  },
  {
   "cell_type": "code",
   "execution_count": null,
   "metadata": {},
   "outputs": [],
   "source": [
    "#| export\n",
    "def grouped_obs_percent(adata:ad.AnnData, # AnnData object to analyse\n",
    "                        group_key:str, # `.obs` category to group by\n",
    "                        layer:str=None # layer to use. If none, use `.X`\n",
    "                       )->pd.DataFrame: # a groups$\\times$genes dataframe with the number of expressing cells\n",
    "    \"Helper function to calculate how many cells express each gene per group in an `AnnData` object.\"\n",
    "    num_expressing = grouped_obs_present(adata, group_key, layer=layer)\n",
    "    no_cells_per_cluster = adata.obs[group_key].value_counts()\n",
    "    return num_expressing / no_cells_per_cluster"
   ]
  },
  {
   "cell_type": "markdown",
   "metadata": {},
   "source": [
    "Calculating the fraction of cells is of course very straightforward once we have counted the number of cells that express the gene as well as the total number of cells in a cluster."
   ]
  },
  {
   "cell_type": "code",
   "execution_count": null,
   "metadata": {},
   "outputs": [],
   "source": [
    "frac_expressing = grouped_obs_percent(adata, group_key='Cluster')\n",
    "# use the counts and number of cells we calculated before\n",
    "frac_ecEp_SC2 = ecEp_SC2_expr / np.sum(belong_to_ecEp_SC2)\n",
    "\n",
    "assert all(np.isclose(frac_expressing['ecEp_SC2'], frac_ecEp_SC2))"
   ]
  },
  {
   "cell_type": "code",
   "execution_count": null,
   "metadata": {},
   "outputs": [],
   "source": [
    "#| hide\n",
    "import nbdev; nbdev.nbdev_export()"
   ]
  }
 ],
 "metadata": {
  "kernelspec": {
   "display_name": "Python 3 (ipykernel)",
   "language": "python",
   "name": "python3"
  }
 },
 "nbformat": 4,
 "nbformat_minor": 4
}
