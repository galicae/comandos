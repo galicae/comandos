{
 "cells": [
  {
   "cell_type": "code",
   "execution_count": null,
   "metadata": {},
   "outputs": [],
   "source": [
    "from datetime import date\n",
    "import pickle\n",
    "import os\n",
    "\n",
    "import numpy as np\n",
    "import pandas as pd\n",
    "\n",
    "import scanpy as sc\n",
    "\n",
    "import scanpy as sc\n",
    "\n",
    "from samap.mapping import SAMAP\n",
    "from samap.analysis import *\n",
    "from samalg import SAM\n",
    "\n",
    "import comandos as cmd"
   ]
  },
  {
   "cell_type": "markdown",
   "metadata": {},
   "source": [
    "Define our query species and target species:"
   ]
  },
  {
   "cell_type": "code",
   "execution_count": null,
   "metadata": {},
   "outputs": [],
   "source": [
    "query_species = \"hy\"\n",
    "target_species = [\"pl\", \"sc\"]"
   ]
  },
  {
   "cell_type": "markdown",
   "metadata": {},
   "source": [
    "Prepare the SAM objects from the h5ad files - this assumes that we have already created the BLAST\n",
    "maps."
   ]
  },
  {
   "cell_type": "code",
   "execution_count": null,
   "metadata": {},
   "outputs": [
    {
     "name": "stdout",
     "output_type": "stream",
     "text": [
      "RUNNING SAM\n",
      "Iteration: 0, Convergence: 1.0\n",
      "Iteration: 1, Convergence: 0.8912672254817323\n",
      "Iteration: 2, Convergence: 0.030676390625406866\n",
      "Computing the UMAP embedding...\n"
     ]
    },
    {
     "name": "stderr",
     "output_type": "stream",
     "text": [
      "OMP: Info #276: omp_set_nested routine deprecated, please use omp_set_max_active_levels instead.\n"
     ]
    },
    {
     "name": "stdout",
     "output_type": "stream",
     "text": [
      "Elapsed time: 5.036503791809082 seconds\n",
      "RUNNING SAM\n",
      "Iteration: 0, Convergence: 1.0\n",
      "Iteration: 1, Convergence: 0.6845440011341486\n",
      "Iteration: 2, Convergence: 0.06152058356160301\n",
      "Computing the UMAP embedding...\n",
      "Elapsed time: 4.307857036590576 seconds\n",
      "RUNNING SAM\n",
      "Iteration: 0, Convergence: 1.0\n",
      "Iteration: 1, Convergence: 0.6415803536389741\n",
      "Iteration: 2, Convergence: 0.023784874539899165\n",
      "Computing the UMAP embedding...\n",
      "Elapsed time: 3.8784899711608887 seconds\n"
     ]
    }
   ],
   "source": [
    "tmp = sc.read(os.environ[\"EXAMPLE_DATA_PATH\"] + \"hydra.h5ad\")\n",
    "hydra = SAM(counts=tmp)\n",
    "hydra.preprocess_data()\n",
    "hydra.run()\n",
    "\n",
    "tmp = sc.read(os.environ[\"EXAMPLE_DATA_PATH\"] + \"planarian.h5ad\")\n",
    "planarian = SAM(counts=tmp)\n",
    "planarian.preprocess_data()\n",
    "planarian.run()\n",
    "\n",
    "tmp = sc.read(os.environ[\"EXAMPLE_DATA_PATH\"] + \"schistosome.h5ad\")\n",
    "schistosome = SAM(counts=tmp)\n",
    "schistosome.preprocess_data()\n",
    "schistosome.run()"
   ]
  },
  {
   "cell_type": "markdown",
   "metadata": {},
   "source": [
    "Run hydra/planarian SAMap:"
   ]
  },
  {
   "cell_type": "code",
   "execution_count": null,
   "metadata": {},
   "outputs": [
    {
     "name": "stdout",
     "output_type": "stream",
     "text": [
      "Not updating the manifold...\n",
      "Not updating the manifold...\n",
      "11731 `hy` gene symbols match between the datasets and the BLAST graph.\n",
      "12330 `pl` gene symbols match between the datasets and the BLAST graph.\n",
      "Prepping datasets for translation.\n",
      "Translating feature spaces pairwise.\n",
      "Projecting data into joint latent space. 0.5346202850341797\n",
      "Correcting data with means. 0.6358249187469482\n",
      "Expanding neighbourhoods of species hy...\n",
      "Expanding neighbourhoods of species pl...\n",
      "Indegree coarsening\n",
      "0/1 (0, 2053)\n",
      "Rescaling edge weights by expression correlations.\n",
      "Concatenating SAM objects...\n",
      "Iteration 1 complete.\n",
      "Alignment scores:\n",
      "          hy        pl\n",
      "hy  0.000000  0.500877\n",
      "pl  0.504851  0.000000\n",
      "Calculating gene-gene correlations in the homology graph...\n",
      "Prepping datasets for translation.\n",
      "Translating feature spaces pairwise.\n",
      "Projecting data into joint latent space. 0.426375150680542\n",
      "Correcting data with means. 0.42827796936035156\n",
      "Expanding neighbourhoods of species hy...\n",
      "Expanding neighbourhoods of species pl...\n",
      "Indegree coarsening\n",
      "0/1 (0, 2053)\n",
      "Rescaling edge weights by expression correlations.\n",
      "Concatenating SAM objects...\n",
      "Iteration 2 complete.\n",
      "Alignment scores:\n",
      "          hy        pl\n",
      "hy  0.000000  0.613804\n",
      "pl  0.615838  0.000000\n",
      "Calculating gene-gene correlations in the homology graph...\n",
      "Prepping datasets for translation.\n",
      "Translating feature spaces pairwise.\n",
      "Projecting data into joint latent space. 0.416607141494751\n",
      "Correcting data with means. 0.41112780570983887\n",
      "Expanding neighbourhoods of species hy...\n",
      "Expanding neighbourhoods of species pl...\n",
      "Indegree coarsening\n",
      "0/1 (0, 2053)\n",
      "Rescaling edge weights by expression correlations.\n",
      "Concatenating SAM objects...\n",
      "Iteration 3 complete.\n",
      "Alignment scores:\n",
      "          hy        pl\n",
      "hy  0.000000  0.636628\n",
      "pl  0.634686  0.000000\n",
      "Running UMAP on the stitched manifolds.\n",
      "Elapsed time: 0.37950168053309125 minutes.\n"
     ]
    },
    {
     "data": {
      "text/plain": [
       "<samalg.SAM at 0x16bd5d850>"
      ]
     },
     "metadata": {},
     "output_type": "display_data"
    }
   ],
   "source": [
    "hypl = SAMAP({\"hy\": hydra, \"pl\": planarian})\n",
    "hypl.run(pairwise=True, ncpus=6, N_GENE_CHUNKS=6)"
   ]
  },
  {
   "cell_type": "markdown",
   "metadata": {},
   "source": [
    "Run hydra/schistosome SAMap:"
   ]
  },
  {
   "cell_type": "code",
   "execution_count": null,
   "metadata": {},
   "outputs": [
    {
     "name": "stdout",
     "output_type": "stream",
     "text": [
      "Not updating the manifold...\n",
      "10051 `hy` gene symbols match between the datasets and the BLAST graph.\n",
      "6386 `sc` gene symbols match between the datasets and the BLAST graph.\n",
      "Prepping datasets for translation.\n",
      "Translating feature spaces pairwise.\n",
      "Projecting data into joint latent space. 0.6117188930511475\n",
      "Correcting data with means. 0.6470427513122559\n",
      "Expanding neighbourhoods of species hy...\n",
      "Expanding neighbourhoods of species sc...\n",
      "Indegree coarsening\n",
      "0/1 (0, 2075)\n",
      "Rescaling edge weights by expression correlations.\n",
      "Concatenating SAM objects...\n",
      "Iteration 1 complete.\n",
      "Alignment scores:\n",
      "          hy        sc\n",
      "hy  0.000000  0.446708\n",
      "sc  0.515036  0.000000\n",
      "Calculating gene-gene correlations in the homology graph...\n",
      "Prepping datasets for translation.\n",
      "Translating feature spaces pairwise.\n",
      "Projecting data into joint latent space. 0.5290451049804688\n",
      "Correcting data with means. 0.575261116027832\n",
      "Expanding neighbourhoods of species hy...\n",
      "Expanding neighbourhoods of species sc...\n",
      "Indegree coarsening\n",
      "0/1 (0, 2075)\n",
      "Rescaling edge weights by expression correlations.\n",
      "Concatenating SAM objects...\n",
      "Iteration 2 complete.\n",
      "Alignment scores:\n",
      "          hy        sc\n",
      "hy  0.000000  0.553378\n",
      "sc  0.604967  0.000000\n",
      "Calculating gene-gene correlations in the homology graph...\n",
      "Prepping datasets for translation.\n",
      "Translating feature spaces pairwise.\n",
      "Projecting data into joint latent space. 0.5097589492797852\n",
      "Correcting data with means. 0.5250668525695801\n",
      "Expanding neighbourhoods of species hy...\n",
      "Expanding neighbourhoods of species sc...\n",
      "Indegree coarsening\n",
      "0/1 (0, 2075)\n",
      "Rescaling edge weights by expression correlations.\n",
      "Concatenating SAM objects...\n",
      "Iteration 3 complete.\n",
      "Alignment scores:\n",
      "          hy        sc\n",
      "hy  0.000000  0.565732\n",
      "sc  0.616979  0.000000\n",
      "Running UMAP on the stitched manifolds.\n",
      "Elapsed time: 0.25950833161671955 minutes.\n"
     ]
    },
    {
     "data": {
      "text/plain": [
       "<samalg.SAM at 0x2cf3fc670>"
      ]
     },
     "metadata": {},
     "output_type": "display_data"
    }
   ],
   "source": [
    "hysc = SAMAP({\"hy\": hydra, \"sc\": schistosome})\n",
    "hysc.run(pairwise=True, ncpus=6, N_GENE_CHUNKS=6)"
   ]
  },
  {
   "cell_type": "markdown",
   "metadata": {},
   "source": [
    "Save the SAMap objects:"
   ]
  },
  {
   "cell_type": "code",
   "execution_count": null,
   "metadata": {},
   "outputs": [],
   "source": [
    "with open(os.environ[\"EXAMPLE_DATA_PATH\"] + \"hypl.pkl\", \"wb\") as f:\n",
    "    pickle.dump(hypl, f)\n",
    "\n",
    "with open(os.environ[\"EXAMPLE_DATA_PATH\"] + \"hysc.pkl\", \"wb\") as f:\n",
    "    pickle.dump(hysc, f)"
   ]
  }
 ],
 "metadata": {
  "kernelspec": {
   "display_name": "comandos",
   "language": "python",
   "name": "python3"
  },
  "language_info": {
   "codemirror_mode": {
    "name": "ipython",
    "version": 3
   },
   "file_extension": ".py",
   "mimetype": "text/x-python",
   "name": "python",
   "nbconvert_exporter": "python",
   "pygments_lexer": "ipython3",
   "version": "3.9.16"
  },
  "orig_nbformat": 4
 },
 "nbformat": 4,
 "nbformat_minor": 2
}
